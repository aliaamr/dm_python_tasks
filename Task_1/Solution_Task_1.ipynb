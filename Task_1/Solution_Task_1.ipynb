{
 "cells": [
  {
   "cell_type": "code",
   "execution_count": null,
   "metadata": {},
   "outputs": [],
   "source": [
    "# Name : Alia Amr | Track : Data Management | Mail : aliaamr2110@gmail.com"
   ]
  },
  {
   "cell_type": "markdown",
   "metadata": {},
   "source": [
    "### Step 0\n",
    "Load the energy data from the file `Energy Indicators.xls`, which is a list of indicators of [energy supply and renewable electricity production](Energy%20Indicators.xls) from the [United Nations](http://unstats.un.org/unsd/environment/excel_file_tables/2013/Energy%20Indicators.xls) for the year 2013, and should be put into a DataFrame with the variable name of **energy**.\n",
    "\n",
    "Keep in mind that this is an Excel file, and not a comma separated values file. Also, make sure to exclude the footer and header information from the datafile. The first two columns are unneccessary, so you should get rid of them, and you should change the column labels so that the columns are:\n",
    "\n",
    "`['Country', 'Energy Supply', 'Energy Supply per Capita', '% Renewable']`\n",
    "\n",
    "Convert `Energy Supply` to gigajoules (there are 1,000,000 gigajoules in a petajoule). For all countries which have missing data (e.g. data with \"...\") make sure this is reflected as `np.NaN` values.\n",
    "\n",
    "Rename the following list of countries (for use in later questions):\n",
    "\n",
    "```\"Republic of Korea\": \"South Korea\",\n",
    "\"United States of America\": \"United States\",\n",
    "\"United Kingdom of Great Britain and Northern Ireland\": \"United Kingdom\",\n",
    "\"China, Hong Kong Special Administrative Region\": \"Hong Kong\"```\n",
    "\n",
    "There are also several countries with numbers and/or parenthesis in their name. Be sure to remove these, \n",
    "\n",
    "e.g. \n",
    "\n",
    "`'Bolivia (Plurinational State of)'` should be `'Bolivia'`, \n",
    "\n",
    "`'Switzerland17'` should be `'Switzerland'`."
   ]
  },
  {
   "cell_type": "code",
   "execution_count": 1,
   "metadata": {},
   "outputs": [
    {
     "name": "stdout",
     "output_type": "stream",
     "text": [
      "Country                     240\n",
      "Energy Supply               222\n",
      "Energy Supply per Capita    222\n",
      "% Renewable                 227\n",
      "dtype: int64\n"
     ]
    }
   ],
   "source": [
    "# Import pandas package \n",
    "import pandas as pd\n",
    "# Import numy package\n",
    "import numpy as np\n",
    "# Now, we will work with IMDB dataset\n",
    "data_extraction = pd.ExcelFile('/home/aliaamr/Documents/Material/data/Energy Indicators.xls')\n",
    "energy = data_extraction.parse(skiprows=17,skip_footer=(38),usecols=[1,3,4,5],\n",
    "                               names=['Country', 'Energy Supply', 'Energy Supply per Capita', '% Renewable'])\n",
    "\n",
    "# make sure missing data is reflected as np.NaN values.\n",
    "columns = ['Energy Supply', 'Energy Supply per Capita', '% Renewable']\n",
    "energy[columns] = energy[columns].replace('...',np.NaN)\n",
    "# convert Energy Supply to gigajoules\n",
    "energy.loc['Energy Supply'] = energy['Energy Supply']*(10**6)\n",
    "# rename the following list of countries\n",
    "energy['Country'] = energy['Country'].replace({'China, Hong Kong Special Administrative Region':'Hong Kong',\n",
    "                                               'United Kingdom of Great Britain and Northern Ireland':'United Kingdom',\n",
    "                                               'Republic of Korea':'South Korea','United States of America':'United States',\n",
    "                                               'Iran (Islamic Republic of)':'Iran'})\n",
    "# there are several countries with numbers and/or parenthesis in their name. Be sure to remove them\n",
    "energy['Country'] = energy['Country'].str.replace(r\" \\(.*\\)\",\"\")\n",
    "\n",
    "print(energy.count())"
   ]
  },
  {
   "cell_type": "code",
   "execution_count": 2,
   "metadata": {},
   "outputs": [
    {
     "name": "stdout",
     "output_type": "stream",
     "text": [
      "----------------------------------------\n",
      "Step 0 done successfully\n",
      "________________________________________\n"
     ]
    }
   ],
   "source": [
    "print('-'*40)\n",
    "print('Step 0 done successfully')\n",
    "print('_'*40)"
   ]
  },
  {
   "cell_type": "markdown",
   "metadata": {},
   "source": [
    "### Step 1\n",
    "<br>\n",
    "\n",
    "Next, load the GDP data from the file `world_bank.csv`, which is a csv containing countries' GDP from 1960 to 2015 from [World Bank](http://data.worldbank.org/indicator/NY.GDP.MKTP.CD). Call this DataFrame **GDP**. \n",
    "\n",
    "Make sure to skip the header, and rename the following list of countries:\n",
    "\n",
    "```\"Korea, Rep.\": \"South Korea\", \n",
    "\"Iran, Islamic Rep.\": \"Iran\",\n",
    "\"Hong Kong SAR, China\": \"Hong Kong\"```\n",
    "\n",
    "<br>"
   ]
  },
  {
   "cell_type": "code",
   "execution_count": 3,
   "metadata": {},
   "outputs": [
    {
     "name": "stdout",
     "output_type": "stream",
     "text": [
      "Country Name      264\n",
      "Country Code      264\n",
      "Indicator Name    264\n",
      "Indicator Code    264\n",
      "1960              119\n",
      "1961              120\n",
      "1962              120\n",
      "1963              120\n",
      "1964              120\n",
      "1965              127\n",
      "1966              132\n",
      "1967              133\n",
      "1968              137\n",
      "1969              137\n",
      "1970              146\n",
      "1971              146\n",
      "1972              146\n",
      "1973              146\n",
      "1974              147\n",
      "1975              152\n",
      "1976              153\n",
      "1977              158\n",
      "1978              158\n",
      "1979              159\n",
      "1980              172\n",
      "1981              177\n",
      "1982              181\n",
      "1983              181\n",
      "1984              185\n",
      "1985              187\n",
      "1986              190\n",
      "1987              193\n",
      "1988              196\n",
      "1989              199\n",
      "1990              212\n",
      "1991              214\n",
      "1992              217\n",
      "1993              218\n",
      "1994              220\n",
      "1995              226\n",
      "1996              226\n",
      "1997              227\n",
      "1998              228\n",
      "1999              230\n",
      "2000              235\n",
      "2001              236\n",
      "2002              237\n",
      "2003              237\n",
      "2004              237\n",
      "2005              237\n",
      "2006              237\n",
      "2007              237\n",
      "2008              238\n",
      "2009              238\n",
      "2010              243\n",
      "2011              238\n",
      "2012              237\n",
      "2013              237\n",
      "2014              230\n",
      "2015              214\n",
      "dtype: int64\n"
     ]
    }
   ],
   "source": [
    "GDP = pd.read_csv('/home/aliaamr/Documents/Material/data/world_bank.csv', header = 4)\n",
    "\n",
    "GDP['Country Name'].replace({\"Korea, Rep.\":\"South Korea\", \n",
    "                             \"Iran, Islamic Rep.\":\"Iran\",\n",
    "                             \"Hong Kong SAR, China\": \"Hong Kong\"}\n",
    "                            , inplace=True)\n",
    "print(GDP.count())"
   ]
  },
  {
   "cell_type": "code",
   "execution_count": 4,
   "metadata": {},
   "outputs": [
    {
     "name": "stdout",
     "output_type": "stream",
     "text": [
      "----------------------------------------\n",
      "Step 1 done successfully\n",
      "________________________________________\n"
     ]
    }
   ],
   "source": [
    "print('-'*40)\n",
    "print('Step 1 done successfully')\n",
    "print('_'*40)"
   ]
  },
  {
   "cell_type": "markdown",
   "metadata": {},
   "source": [
    "### Step 2\n",
    "Finally, load the [Sciamgo Journal and Country Rank data for Energy Engineering and Power Technology](http://www.scimagojr.com/countryrank.php?category=2102) from the file `scimagojr-3.xlsx`, which ranks countries based on their journal contributions in the aforementioned area. Call this DataFrame **ScimEn**."
   ]
  },
  {
   "cell_type": "code",
   "execution_count": 5,
   "metadata": {},
   "outputs": [
    {
     "name": "stdout",
     "output_type": "stream",
     "text": [
      "Rank                      191\n",
      "Country                   191\n",
      "Documents                 191\n",
      "Citable documents         191\n",
      "Citations                 191\n",
      "Self-citations            191\n",
      "Citations per document    191\n",
      "H index                   191\n",
      "dtype: int64\n"
     ]
    }
   ],
   "source": [
    "ScimEn = pd.read_excel('/home/aliaamr/Documents/Material/data/scimagojr-3.xlsx')\n",
    "print(ScimEn.count())"
   ]
  },
  {
   "cell_type": "code",
   "execution_count": 6,
   "metadata": {},
   "outputs": [
    {
     "name": "stdout",
     "output_type": "stream",
     "text": [
      "----------------------------------------\n",
      "Step 2 done successfully\n",
      "________________________________________\n"
     ]
    }
   ],
   "source": [
    "print('-'*40)\n",
    "print('Step 2 done successfully')\n",
    "print('_'*40)"
   ]
  },
  {
   "cell_type": "markdown",
   "metadata": {},
   "source": [
    "### Step 3\n",
    "Join the three datasets: GDP, Energy, and ScimEn into a new dataset (using the intersection of country names). Use only the last 10 years (2006-2015) of GDP data and only the top 15 countries by Scimagojr 'Rank' (Rank 1 through 15). \n",
    "\n",
    "The index of this DataFrame should be the name of the country, and the columns should be ['Rank', 'Documents', 'Citable documents', 'Citations', 'Self-citations',\n",
    "       'Citations per document', 'H index', 'Energy Supply',\n",
    "       'Energy Supply per Capita', '% Renewable', '2006', '2007', '2008',\n",
    "       '2009', '2010', '2011', '2012', '2013', '2014', '2015'].\n",
    "\n",
    "*This step should yeild a DataFrame with 20 columns and 15 entries.*"
   ]
  },
  {
   "cell_type": "code",
   "execution_count": 7,
   "metadata": {},
   "outputs": [],
   "source": [
    "# ScimEn\n",
    "# only the top 15 countries\n",
    "ScimEn = ScimEn[:15]\n",
    "\n",
    "# GDP\n",
    "# only the last 10 years (2006-2015)\n",
    "GDP = GDP[['Country Name','2006','2007','2008','2009','2010','2011','2012','2013','2014','2015']]\n",
    "GDP.columns = ['Country','2006','2007','2008','2009','2010','2011','2012','2013','2014','2015']\n",
    "\n",
    "df1 = pd.merge(ScimEn, energy, how='inner', left_on='Country', right_on='Country')\n",
    "df2 = pd.merge(df1, GDP, how='inner', left_on='Country', right_on='Country')\n",
    "# set index for the table\n",
    "df2 = df2.set_index('Country')\n",
    "\n"
   ]
  },
  {
   "cell_type": "code",
   "execution_count": 8,
   "metadata": {},
   "outputs": [
    {
     "name": "stdout",
     "output_type": "stream",
     "text": [
      "(15, 20)\n"
     ]
    }
   ],
   "source": [
    "print(df2.shape)"
   ]
  },
  {
   "cell_type": "code",
   "execution_count": 9,
   "metadata": {},
   "outputs": [
    {
     "name": "stdout",
     "output_type": "stream",
     "text": [
      "----------------------------------------\n",
      "Step 3 done successfully\n",
      "________________________________________\n"
     ]
    }
   ],
   "source": [
    "print('-'*40)\n",
    "print('Step 3 done successfully')\n",
    "print('_'*40)"
   ]
  },
  {
   "cell_type": "markdown",
   "metadata": {},
   "source": [
    "### Step 4\n",
    "The previous question joined three datasets then reduced this to just the top 15 entries. When you joined the datasets, but before you reduced this to the top 15 items, how many entries did you lose?\n",
    "\n",
    "*This step should yield a single number.*"
   ]
  },
  {
   "cell_type": "code",
   "execution_count": 10,
   "metadata": {},
   "outputs": [
    {
     "data": {
      "text/plain": [
       "171"
      ]
     },
     "execution_count": 10,
     "metadata": {},
     "output_type": "execute_result"
    }
   ],
   "source": [
    "171"
   ]
  },
  {
   "cell_type": "code",
   "execution_count": 11,
   "metadata": {},
   "outputs": [
    {
     "name": "stdout",
     "output_type": "stream",
     "text": [
      "----------------------------------------\n",
      "Step 4 done successfully\n",
      "________________________________________\n"
     ]
    }
   ],
   "source": [
    "print('-'*40)\n",
    "print('Step 4 done successfully')\n",
    "print('_'*40)"
   ]
  },
  {
   "cell_type": "markdown",
   "metadata": {},
   "source": [
    "### Step 5\n",
    "\n",
    "#### Answer the following questions in the context of only the top 15 countries by Scimagojr Rank \n",
    "\n",
    "\n",
    "What is the average GDP over the last 10 years for each country? (exclude missing values from this calculation.)\n",
    "\n",
    "*This step should return a Series named `avgGDP` with 15 countries and their average GDP sorted in descending order.*"
   ]
  },
  {
   "cell_type": "code",
   "execution_count": 12,
   "metadata": {},
   "outputs": [
    {
     "name": "stdout",
     "output_type": "stream",
     "text": [
      "Country\n",
      "Iran                  4.441558e+11\n",
      "South Korea           1.106715e+12\n",
      "Australia             1.164043e+12\n",
      "Spain                 1.418078e+12\n",
      "Russian Federation    1.565459e+12\n",
      "Canada                1.660647e+12\n",
      "India                 1.769297e+12\n",
      "Italy                 2.120175e+12\n",
      "Brazil                2.189794e+12\n",
      "United Kingdom        2.487907e+12\n",
      "France                2.681725e+12\n",
      "Germany               3.493025e+12\n",
      "Japan                 5.542208e+12\n",
      "China                 6.348609e+12\n",
      "United States         1.536434e+13\n",
      "Name: avgGDP, dtype: float64\n"
     ]
    }
   ],
   "source": [
    "# 15 countries \n",
    "# average GDP \n",
    "# descending order\n",
    "data = df2\n",
    "years = ['2006','2007','2008','2009','2010','2011','2012','2013','2014','2015']\n",
    "avgGDP = data[years].mean(axis = 1).rename('avgGDP').sort_values(ascending= True)\n",
    "print(avgGDP)"
   ]
  },
  {
   "cell_type": "code",
   "execution_count": 13,
   "metadata": {},
   "outputs": [
    {
     "name": "stdout",
     "output_type": "stream",
     "text": [
      "----------------------------------------\n",
      "Step 5 done successfully\n",
      "________________________________________\n"
     ]
    }
   ],
   "source": [
    "print('-'*40)\n",
    "print('Step 5 done successfully')\n",
    "print('_'*40)"
   ]
  },
  {
   "cell_type": "markdown",
   "metadata": {},
   "source": [
    "### Step  6\n",
    "What is the mean `Energy Supply per Capita`?\n",
    "\n",
    "*This step should return a single number.*"
   ]
  },
  {
   "cell_type": "code",
   "execution_count": 14,
   "metadata": {},
   "outputs": [
    {
     "name": "stdout",
     "output_type": "stream",
     "text": [
      "157.6\n"
     ]
    }
   ],
   "source": [
    "meanESPC = data.iloc[:,8].mean()\n",
    "print(meanESPC)"
   ]
  },
  {
   "cell_type": "code",
   "execution_count": 15,
   "metadata": {},
   "outputs": [
    {
     "name": "stdout",
     "output_type": "stream",
     "text": [
      "----------------------------------------\n",
      "Step 6 done successfully\n",
      "________________________________________\n"
     ]
    }
   ],
   "source": [
    "print('-'*40)\n",
    "print('Step 6 done successfully')\n",
    "print('_'*40)"
   ]
  },
  {
   "cell_type": "markdown",
   "metadata": {},
   "source": [
    "### Step 7\n",
    "What country has the maximum % Renewable and what is the percentage?\n",
    "\n",
    "*This step should return a tuple with the name of the country and the percentage.*"
   ]
  },
  {
   "cell_type": "code",
   "execution_count": 16,
   "metadata": {},
   "outputs": [
    {
     "name": "stdout",
     "output_type": "stream",
     "text": [
      "('Brazil', 69.64803)\n"
     ]
    }
   ],
   "source": [
    "# idxmax() – > returns the index of the row where column name “% Renewable” has maximum value.\n",
    "maxRenewable = data.iloc[:,9].max()\n",
    "country = data['% Renewable'].idxmax()\n",
    "\n",
    "maxRenewableResult = (country, maxRenewable)\n",
    "print(maxRenewableResult)"
   ]
  },
  {
   "cell_type": "code",
   "execution_count": 17,
   "metadata": {},
   "outputs": [
    {
     "name": "stdout",
     "output_type": "stream",
     "text": [
      "----------------------------------------\n",
      "Step 7 done successfully\n",
      "________________________________________\n"
     ]
    }
   ],
   "source": [
    "print('-'*40)\n",
    "print('Step 7 done successfully')\n",
    "print('_'*40)"
   ]
  },
  {
   "cell_type": "markdown",
   "metadata": {},
   "source": [
    "### Step 8\n",
    "Create a new column that is the ratio of Self-Citations to Total Citations. \n",
    "What is the maximum value for this new column, and what country has the highest ratio?\n",
    "\n",
    "*This step should return a tuple with the name of the country and the ratio.*"
   ]
  },
  {
   "cell_type": "code",
   "execution_count": 18,
   "metadata": {},
   "outputs": [
    {
     "name": "stdout",
     "output_type": "stream",
     "text": [
      "('China', 0.6893126179389422)\n"
     ]
    }
   ],
   "source": [
    "citationsRatio = data[\"Self-citations\"] / data[\"Citations\"]\n",
    "\n",
    "citationsRatioResult = (citationsRatio.idxmax(), citationsRatio.max())\n",
    "print(citationsRatioResult)"
   ]
  },
  {
   "cell_type": "code",
   "execution_count": 19,
   "metadata": {},
   "outputs": [
    {
     "name": "stdout",
     "output_type": "stream",
     "text": [
      "----------------------------------------\n",
      "Step 8 done successfully\n",
      "________________________________________\n"
     ]
    }
   ],
   "source": [
    "print('-'*40)\n",
    "print('Step 8 done successfully')\n",
    "print('_'*40)"
   ]
  },
  {
   "cell_type": "markdown",
   "metadata": {},
   "source": [
    "### Step 9\n",
    "Create a new column with a 1 if the country's % Renewable value is at or above the median for all countries in the top 15, and a 0 if the country's % Renewable value is below the median.\n",
    "\n",
    "*This step should return a series named `HighRenew` whose index is the country name sorted in ascending order of rank.*"
   ]
  },
  {
   "cell_type": "code",
   "execution_count": 20,
   "metadata": {},
   "outputs": [
    {
     "name": "stdout",
     "output_type": "stream",
     "text": [
      "Country\n",
      "China                 1\n",
      "United States         0\n",
      "Japan                 0\n",
      "United Kingdom        0\n",
      "Russian Federation    1\n",
      "Canada                1\n",
      "Germany               1\n",
      "India                 0\n",
      "France                0\n",
      "South Korea           0\n",
      "Italy                 1\n",
      "Spain                 1\n",
      "Iran                  0\n",
      "Australia             0\n",
      "Brazil                1\n",
      "Name: HighRenew, dtype: int64\n"
     ]
    }
   ],
   "source": [
    "# the median for all countries in the top 15\n",
    "medianRenewable = data[\"% Renewable\"].median(axis=0)\n",
    "\n",
    "# 1 if the country's % Renewable value is at or above the median\n",
    "# 0 if the country's % Renewable value is below the median\n",
    "data[\"HighRenew\"] = data.apply(lambda c: 1 if c[\"% Renewable\"] > medianRenewable else 0, axis=1)\n",
    "\n",
    "#sorted in ascending order of rank\n",
    "data.sort_values(by='Rank', inplace=True)\n",
    "\n",
    "print(data[\"HighRenew\"])"
   ]
  },
  {
   "cell_type": "code",
   "execution_count": 21,
   "metadata": {},
   "outputs": [
    {
     "name": "stdout",
     "output_type": "stream",
     "text": [
      "----------------------------------------\n",
      "Step 9 done successfully\n",
      "________________________________________\n"
     ]
    }
   ],
   "source": [
    "print('-'*40)\n",
    "print('Step 9 done successfully')\n",
    "print('_'*40)"
   ]
  },
  {
   "cell_type": "markdown",
   "metadata": {},
   "source": [
    "### Step 10\n",
    "Use the following dictionary to group the Countries by Continent, then create a dateframe that displays the sample size (the number of countries in each continent bin), and the sum, mean, and std deviation for the estimated population of each country.\n",
    "\n",
    "```python\n",
    "ContinentDict  = {'China':'Asia', \n",
    "                  'United States':'North America', \n",
    "                  'Japan':'Asia', \n",
    "                  'United Kingdom':'Europe', \n",
    "                  'Russian Federation':'Europe', \n",
    "                  'Canada':'North America', \n",
    "                  'Germany':'Europe', \n",
    "                  'India':'Asia',\n",
    "                  'France':'Europe', \n",
    "                  'South Korea':'Asia', \n",
    "                  'Italy':'Europe', \n",
    "                  'Spain':'Europe', \n",
    "                  'Iran':'Asia',\n",
    "                  'Australia':'Australia', \n",
    "                  'Brazil':'South America'}\n",
    "```\n",
    "\n",
    "*This function should return a DataFrame with index named Continent `['Asia', 'Australia', 'Europe', 'North America', 'South America']` and columns `['size', 'sum', 'mean', 'std']`*"
   ]
  },
  {
   "cell_type": "code",
   "execution_count": 22,
   "metadata": {},
   "outputs": [
    {
     "name": "stdout",
     "output_type": "stream",
     "text": [
      "               size          sum        mean         std\n",
      "Asia            5.0  2898.666387  579.733277  679.097888\n",
      "Australia       1.0    23.316017   23.316017         NaN\n",
      "Europe          6.0   457.929667   76.321611   34.647667\n",
      "North America   2.0   352.855249  176.427625  199.669645\n",
      "South America   1.0   205.915254  205.915254         NaN\n"
     ]
    }
   ],
   "source": [
    "ContinentDict  = {'China':'Asia', \n",
    "                  'United States':'North America', \n",
    "                  'Japan':'Asia', \n",
    "                  'United Kingdom':'Europe', \n",
    "                  'Russian Federation':'Europe', \n",
    "                  'Canada':'North America', \n",
    "                  'Germany':'Europe', \n",
    "                  'India':'Asia',\n",
    "                  'France':'Europe', \n",
    "                  'South Korea':'Asia', \n",
    "                  'Italy':'Europe', \n",
    "                  'Spain':'Europe', \n",
    "                  'Iran':'Asia',\n",
    "                  'Australia':'Australia', \n",
    "                  'Brazil':'South America'}\n",
    "\n",
    "data['Estimate Population'] = data['Energy Supply'] / data['Energy Supply per Capita']\n",
    "\n",
    "continentGroups = pd.DataFrame(columns = ['size', 'sum', 'mean', 'std'])\n",
    "# size, sum, mean, and std deviation for the estimated population of each country.\n",
    "for group, df in data.groupby(ContinentDict):\n",
    "    continentGroups.loc[group] = [len(df),\n",
    "                         df['Estimate Population'].sum(),\n",
    "                         df['Estimate Population'].mean(),\n",
    "                         df['Estimate Population'].std()]\n",
    "    \n",
    "print(continentGroups)"
   ]
  },
  {
   "cell_type": "code",
   "execution_count": null,
   "metadata": {},
   "outputs": [],
   "source": [
    "print('-'*40)\n",
    "print('Step 10 done successfully')\n",
    "print('_'*40)"
   ]
  }
 ],
 "metadata": {
  "kernelspec": {
   "display_name": "Python 3",
   "language": "python",
   "name": "python3"
  },
  "language_info": {
   "codemirror_mode": {
    "name": "ipython",
    "version": 3
   },
   "file_extension": ".py",
   "mimetype": "text/x-python",
   "name": "python",
   "nbconvert_exporter": "python",
   "pygments_lexer": "ipython3",
   "version": "3.7.4"
  }
 },
 "nbformat": 4,
 "nbformat_minor": 2
}
